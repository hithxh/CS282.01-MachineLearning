{
 "cells": [
  {
   "cell_type": "code",
   "execution_count": null,
   "metadata": {},
   "outputs": [],
   "source": [
    "import numpy as np\n",
    "import pandas as pd\n",
    "from pandas import Series, DataFrame\n",
    "import matplotlib.pyplot as plt\n",
    "import re as re\n",
    "% matplotlib inline"
   ]
  },
  {
   "cell_type": "code",
   "execution_count": null,
   "metadata": {
    "scrolled": true
   },
   "outputs": [],
   "source": [
    "train_df = pd.read_csv('DataTraining.csv')\n",
    "test_df = pd.read_csv('DataPredict.csv')\n",
    "train_df['custAge'].fillna(0, inplace=True)\n",
    "\n",
    "col_name = train_df.columns.tolist()\n",
    "col_name.insert(col_name.index('profession'),'custAge_idx')# 在 profession 列前面插入\n",
    "train_df.reindex(columns=col_name)\n",
    "print(train_df.head())\n",
    "#train_df['custAge'].fillna(0, inplace=True)\n",
    "#train_df['custAge_idx'].fillna(0, inplace=True)"
   ]
  },
  {
   "cell_type": "code",
   "execution_count": null,
   "metadata": {},
   "outputs": [],
   "source": [
    "print (train_df.info())\n",
    "train_df.head(5)"
   ]
  },
  {
   "cell_type": "code",
   "execution_count": null,
   "metadata": {},
   "outputs": [],
   "source": [
    "print (test_df.info())\n",
    "train_df.head(5)"
   ]
  },
  {
   "cell_type": "code",
   "execution_count": null,
   "metadata": {},
   "outputs": [],
   "source": [
    "print (train_df.duplicated().value_counts())\n",
    "print (test_df.duplicated().value_counts())\n"
   ]
  },
  {
   "cell_type": "code",
   "execution_count": null,
   "metadata": {},
   "outputs": [],
   "source": [
    "train_df.describe()"
   ]
  },
  {
   "cell_type": "code",
   "execution_count": null,
   "metadata": {},
   "outputs": [],
   "source": [
    "import seaborn as sns\n",
    "plt.figure(figsize=(19, 15))\n",
    "sns.countplot('custAge',data=train_df)"
   ]
  },
  {
   "cell_type": "code",
   "execution_count": null,
   "metadata": {},
   "outputs": [],
   "source": [
    "# 检查数据的相关性\n",
    "corr = train_df.corr()\n",
    "plt.figure(figsize=(19, 15))\n",
    "sns.heatmap(corr, annot=True, fmt='.2g')\n"
   ]
  },
  {
   "cell_type": "code",
   "execution_count": null,
   "metadata": {},
   "outputs": [],
   "source": [
    "import numpy as np\n",
    "import pandas as pd\n",
    "from pandas import Series, DataFrame\n",
    "import Getmissed\n",
    "import Addmissingvalue\n",
    "\n",
    "train_df = pd.read_csv('DataTraining.csv')\n",
    "\n",
    "train=Getmissed.GetTrain(train_df)\n",
    "print (train)\n",
    "Agemiss=Getmissed.GetAgemissed(train_df)\n",
    "print (Agemiss)\n",
    "Schoolingmiss=Getmissed.GetSchoolingmissed(train_df)\n",
    "print (Schoolingmiss)\n",
    "AgeSchoolingmiss=Getmissed.GetAgeSchoolingmissed(train_df)\n",
    "print (AgeSchoolingmiss)\n",
    "\n",
    "Agemissdum=Addmissingvalue.AddAge_missedval(train,Agemiss)\n",
    "print (Agemissdum)\n",
    "Schoolingmissdum=Addmissingvalue.AddSchooling_missedval(train,Schoolingmiss)\n",
    "print (Schoolingmissdum)\n",
    "AgeSchoolingmissdum=Addmissingvalue.AddAgeSchooling_missedval(train,AgeSchoolingmiss)\n",
    "print (AgeSchoolingmissdum)"
   ]
  },
  {
   "cell_type": "code",
   "execution_count": null,
   "metadata": {},
   "outputs": [],
   "source": []
  }
 ],
 "metadata": {
  "kernelspec": {
   "display_name": "Python 3",
   "language": "python",
   "name": "python3"
  },
  "language_info": {
   "codemirror_mode": {
    "name": "ipython",
    "version": 3
   },
   "file_extension": ".py",
   "mimetype": "text/x-python",
   "name": "python",
   "nbconvert_exporter": "python",
   "pygments_lexer": "ipython3",
   "version": "3.6.4"
  }
 },
 "nbformat": 4,
 "nbformat_minor": 2
}
