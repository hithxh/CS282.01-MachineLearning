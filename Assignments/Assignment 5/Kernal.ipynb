{
 "cells": [
  {
   "cell_type": "code",
   "execution_count": 14,
   "metadata": {},
   "outputs": [
    {
     "name": "stdout",
     "output_type": "stream",
     "text": [
      "w= [[ 6.24500451e-17  6.24500451e-17 -3.33284735e-01]]\n",
      "b= [1.66637508]\n"
     ]
    },
    {
     "data": {
      "image/png": "[encoded data removed]",
      "text/plain": [
       "<matplotlib.figure.Figure at 0x10c7f11d0>"
      ]
     },
     "metadata": {},
     "output_type": "display_data"
    }
   ],
   "source": [
    "import numpy as np\n",
    "from sklearn import svm\n",
    "import matplotlib.pyplot as plt\n",
    "\n",
    "def image(x):\n",
    "    x = np.asarray(x)\n",
    "    a = []\n",
    "    for i in range(x.shape[0]):\n",
    "        a.append(np.hstack((x[i],x[i]@x[i].T)))\n",
    "    return np.asarray(a)\n",
    "\n",
    "x = [[1,1],[1,-1],[-1,1],[-1,-1],[2,2],[2,-2],[-2,2],[-2,-2]]\n",
    "y = [1,1,1,1,-1,-1,-1,-1]\n",
    "\n",
    "h = .02  # step size in the mesh\n",
    "\n",
    "clf = svm.SVC(kernel = 'linear',C=1)\n",
    "x1 = image(x)\n",
    "clf.fit(x1,y)\n",
    "m = clf.get_params(deep=True)\n",
    "w = clf.coef_\n",
    "b = clf.intercept_\n",
    "\n",
    "print(\"w=\",w)\n",
    "print(\"b=\",b)\n",
    "\n",
    "x = np.asarray(x)\n",
    "y = np.asarray(y)\n",
    "x_min, x_max = x[:, 0].min() - 1, x[:, 0].max() + 1\n",
    "y_min, y_max = x[:, 1].min() - 1, x[:, 1].max() + 1\n",
    "xx, yy = np.meshgrid(np.arange(x_min, x_max, h), np.arange(y_min, y_max, h))\n",
    "coord2D = np.c_[xx.ravel(), yy.ravel()]\n",
    "coord3D = image(np.c_[xx.ravel(), yy.ravel()])\n",
    "Z = clf.predict(coord3D)\n",
    "\n",
    "# Put the result into a color plot\n",
    "Z = Z.reshape(xx.shape)\n",
    "plt.pcolormesh(xx, yy, Z, cmap=plt.cm.Paired)\n",
    "\n",
    "# Plot also the training points\n",
    "plt.scatter(x[:, 0], x[:, 1], c=y, cmap=plt.cm.Paired, edgecolors='b')\n",
    "plt.title('SVM with custom kernel')\n",
    "plt.axis('tight')\n",
    "plt.show()\n"
   ]
  },
  {
   "cell_type": "code",
   "execution_count": null,
   "metadata": {},
   "outputs": [],
   "source": []
  }
 ],
 "metadata": {
  "kernelspec": {
   "display_name": "Python 3",
   "language": "python",
   "name": "python3"
  },
  "language_info": {
   "codemirror_mode": {
    "name": "ipython",
    "version": 3
   },
   "file_extension": ".py",
   "mimetype": "text/x-python",
   "name": "python",
   "nbconvert_exporter": "python",
   "pygments_lexer": "ipython3",
   "version": "3.6.4"
  }
 },
 "nbformat": 4,
 "nbformat_minor": 2
}
