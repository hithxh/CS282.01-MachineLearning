{
 "cells": [
  {
   "cell_type": "code",
   "execution_count": 2,
   "metadata": {},
   "outputs": [
    {
     "name": "stdout",
     "output_type": "stream",
     "text": [
      "Accuracy = 76.2391% (22396/29376) (classification)\n",
      "Accuracy = 80.1028% (23531/29376) (classification)\n",
      "Accuracy = 82.8772% (24346/29376) (classification)\n",
      "Accuracy = 83.6023% (24559/29376) (classification)\n",
      "Accuracy = 83.5682% (24549/29376) (classification)\n",
      "Accuracy = 83.6227% (24565/29376) (classification)\n",
      "Accuracy = 83.8371% (24628/29376) (classification)\n",
      "Accuracy = 83.5682% (24549/29376) (classification)\n",
      "Accuracy = 83.4184% (24505/29376) (classification)\n",
      "Accuracy = 83.7963% (24616/29376) (classification)\n",
      "Accuracy = 83.861% (24635/29376) (classification)\n",
      "Accuracy = 84.021% (24682/29376) (classification)\n",
      "Accuracy = 84.1401% (24717/29376) (classification)\n",
      "Accuracy = 84.2048% (24736/29376) (classification)\n",
      "Accuracy = 84.1401% (24717/29376) (classification)\n",
      "Accuracy = 84.1605% (24723/29376) (classification)\n",
      "Accuracy = 84.2388% (24746/29376) (classification)\n",
      "Accuracy = 84.3342% (24774/29376) (classification)\n",
      "Accuracy = 84.2865% (24760/29376) (classification)\n",
      "Accuracy = 84.3103% (24767/29376) (classification)\n",
      "Accuracy = 84.3239% (24771/29376) (classification)\n",
      "Accuracy = 84.2593% (24752/29376) (classification)\n",
      "Accuracy = 84.1776% (24728/29376) (classification)\n",
      "Accuracy = 84.3376% (24775/29376) (classification)\n",
      "Accuracy = 84.4158% (24798/29376) (classification)\n"
     ]
    },
    {
     "data": {
      "image/png": "[encoded data removed]",
      "text/plain": [
       "<matplotlib.figure.Figure at 0x107c62390>"
      ]
     },
     "metadata": {},
     "output_type": "display_data"
    }
   ],
   "source": [
    "from svm import *\n",
    "from svmutil import *\n",
    "import numpy as np\n",
    "import matplotlib.pyplot as plt\n",
    "\n",
    "y_train,x_train = svm_read_problem('a3a.txt')\n",
    "y_test,x_test = svm_read_problem('a3a.t')\n",
    "\n",
    "\n",
    "def passes(sample_num, order, pass_num):\n",
    "    interval = sample_num // pass_num\n",
    "    if 0 <= order < pass_num:\n",
    "        return np.arange(0, (order+1)*interval)\n",
    "    elif order == pass_num-1:\n",
    "        return np.arange(0,sample_num)\n",
    "    else:\n",
    "        if order < 0:\n",
    "            assert 0 <= order <= pass_num-1, 'order is less than 0!'\n",
    "        else:\n",
    "            assert 0 <= order <= pass_num-1, 'order is greater than total pass number!'\n",
    "       \n",
    "acc_hist = []\n",
    "pass_hist = []\n",
    "pass_num = 25\n",
    "sample_num = len(y_train)\n",
    "\n",
    "for order in range(pass_num):\n",
    "    p = passes(sample_num, order, pass_num)\n",
    "    x1 = list(np.asarray(x_train)[p])\n",
    "    y1 = list(np.asarray(y_train)[p])\n",
    "    m = svm_train(y1, x1, '-c 4')\n",
    "    p_labs,p_acc,p_vals = svm_predict(y_test,x_test,m)\n",
    "    acc_hist.append(p_acc[0]/100)\n",
    "    pass_hist.append(p)\n",
    "    \n",
    "\n",
    "plt.xlabel('PASSES')\n",
    "plt.ylabel('Accuracy(%)')\n",
    "plt.plot(np.arange(pass_num),acc_hist,marker = '.')\n",
    "plt.title('Accuracy of data a3a.t') \n",
    "plt.show()\n"
   ]
  },
  {
   "cell_type": "code",
   "execution_count": null,
   "metadata": {},
   "outputs": [],
   "source": []
  }
 ],
 "metadata": {
  "kernelspec": {
   "display_name": "Python 3",
   "language": "python",
   "name": "python3"
  },
  "language_info": {
   "codemirror_mode": {
    "name": "ipython",
    "version": 3
   },
   "file_extension": ".py",
   "mimetype": "text/x-python",
   "name": "python",
   "nbconvert_exporter": "python",
   "pygments_lexer": "ipython3",
   "version": "3.6.4"
  }
 },
 "nbformat": 4,
 "nbformat_minor": 2
}
